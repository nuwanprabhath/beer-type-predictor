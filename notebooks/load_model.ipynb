{
 "cells": [
  {
   "cell_type": "code",
   "execution_count": 18,
   "metadata": {},
   "outputs": [],
   "source": [
    "import torch\n",
    "import pandas as pd\n",
    "import numpy as np\n",
    "\n",
    "model = torch.load(\"../models/pytorch_classification_v1.pt\")"
   ]
  },
  {
   "cell_type": "code",
   "execution_count": 26,
   "metadata": {},
   "outputs": [],
   "source": [
    "from sklearn.preprocessing import StandardScaler, OrdinalEncoder"
   ]
  },
  {
   "cell_type": "code",
   "execution_count": 31,
   "metadata": {},
   "outputs": [
    {
     "data": {
      "text/html": [
       "<div>\n",
       "<style scoped>\n",
       "    .dataframe tbody tr th:only-of-type {\n",
       "        vertical-align: middle;\n",
       "    }\n",
       "\n",
       "    .dataframe tbody tr th {\n",
       "        vertical-align: top;\n",
       "    }\n",
       "\n",
       "    .dataframe thead th {\n",
       "        text-align: right;\n",
       "    }\n",
       "</style>\n",
       "<table border=\"1\" class=\"dataframe\">\n",
       "  <thead>\n",
       "    <tr style=\"text-align: right;\">\n",
       "      <th></th>\n",
       "      <th>beer_style</th>\n",
       "      <th>brewery_name</th>\n",
       "    </tr>\n",
       "  </thead>\n",
       "  <tbody>\n",
       "    <tr>\n",
       "      <th>0</th>\n",
       "      <td>0.0</td>\n",
       "      <td>4886.0</td>\n",
       "    </tr>\n",
       "    <tr>\n",
       "      <th>1</th>\n",
       "      <td>2.0</td>\n",
       "      <td>4886.0</td>\n",
       "    </tr>\n",
       "  </tbody>\n",
       "</table>\n",
       "</div>"
      ],
      "text/plain": [
       "   beer_style  brewery_name\n",
       "0         0.0        4886.0\n",
       "1         2.0        4886.0"
      ]
     },
     "execution_count": 31,
     "metadata": {},
     "output_type": "execute_result"
    }
   ],
   "source": [
    "df_cleaned = pd.DataFrame({'beer_style': ['Altbier', 'American Amber / Red Ale'],\n",
    "                           'brewery_name': ['Vecchio Birraio', 'Vecchio Birraio']\n",
    "                          })\n",
    "\n",
    "array_beer_style_names = np.load('../data/processed/beer_style_names.npy', allow_pickle=True)\n",
    "array_brewery_names = np.load('../data/processed/brewery_names.npy', allow_pickle=True)\n",
    "\n",
    "# cats_dict = {\n",
    "#     'types_list': [['two', 'three', 'apple', 'four']]\n",
    "# }\n",
    "\n",
    "# for col, cats in cats_dict.items():\n",
    "#     print(col)\n",
    "#     print(cats)\n",
    "#     col_encoder = OrdinalEncoder(categories=cats)\n",
    "#     df_cleaned[col] = col_encoder.fit_transform(df_cleaned[[col]])\n",
    "\n",
    "target_encoder = OrdinalEncoder(categories=[array_beer_style_names])\n",
    "df_cleaned['beer_style'] = target_encoder.fit_transform(df_cleaned[['beer_style']])\n",
    "\n",
    "col_encoder = OrdinalEncoder(categories=[array_brewery_names])\n",
    "df_cleaned['brewery_name'] = col_encoder.fit_transform(df_cleaned[['brewery_name']])\n",
    "df_cleaned"
   ]
  },
  {
   "cell_type": "code",
   "execution_count": null,
   "metadata": {},
   "outputs": [],
   "source": []
  }
 ],
 "metadata": {
  "kernelspec": {
   "display_name": "Python 3",
   "language": "python",
   "name": "python3"
  },
  "language_info": {
   "codemirror_mode": {
    "name": "ipython",
    "version": 3
   },
   "file_extension": ".py",
   "mimetype": "text/x-python",
   "name": "python",
   "nbconvert_exporter": "python",
   "pygments_lexer": "ipython3",
   "version": "3.7.6"
  }
 },
 "nbformat": 4,
 "nbformat_minor": 4
}
